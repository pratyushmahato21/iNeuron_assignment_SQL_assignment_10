{
 "cells": [
  {
   "cell_type": "markdown",
   "id": "26889915",
   "metadata": {},
   "source": [
    "Q-19. Write an SQL query to determine the 5th highest salary without using TOP or limit method."
   ]
  },
  {
   "cell_type": "markdown",
   "id": "d9cc5308",
   "metadata": {},
   "source": [
    "SELECT * FROM (SELECT ROW_NUMBER() OVER (ORDER BY salary DESC) AS SNo, emp_no,\n",
    "salary, full_name FROM WORKER) AS new_table\n",
    "WHERE new_table.SNo = 5;"
   ]
  },
  {
   "cell_type": "markdown",
   "id": "dbbfa527",
   "metadata": {},
   "source": [
    "Q-20. Write an SQL query to fetch the list of employees with the same salary."
   ]
  },
  {
   "cell_type": "markdown",
   "id": "cd15522f",
   "metadata": {},
   "source": [
    "SELECT w1.emp_no, w1.full_name, w1.first_name, w1.last_name, w1.department, w1.salary, w1.email, w1.joining_date\n",
    "FROM WORKER w1\n",
    "INNER JOIN WORKER w2\n",
    "ON w1.salary = w2.salary;"
   ]
  },
  {
   "cell_type": "code",
   "execution_count": null,
   "id": "73a53fe9",
   "metadata": {},
   "outputs": [],
   "source": []
  }
 ],
 "metadata": {
  "kernelspec": {
   "display_name": "Python 3 (ipykernel)",
   "language": "python",
   "name": "python3"
  },
  "language_info": {
   "codemirror_mode": {
    "name": "ipython",
    "version": 3
   },
   "file_extension": ".py",
   "mimetype": "text/x-python",
   "name": "python",
   "nbconvert_exporter": "python",
   "pygments_lexer": "ipython3",
   "version": "3.8.12"
  }
 },
 "nbformat": 4,
 "nbformat_minor": 5
}
